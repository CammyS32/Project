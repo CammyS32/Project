{
 "cells": [
  {
   "cell_type": "code",
   "execution_count": 1,
   "metadata": {},
   "outputs": [],
   "source": [
    "import numpy as np\n",
    "import pandas as pd \n",
    "from matplotlib import pyplot as plt\n",
    "import seaborn as sns\n",
    "sns.set_style(\"darkgrid\")\n",
    "from sklearn.cluster import KMeans\n",
    "from sklearn.metrics import confusion_matrix\n",
    "from sklearn.metrics import accuracy_score \n",
    "from sklearn.metrics import classification_report \n",
    "from sklearn.metrics import plot_confusion_matrix\n"
   ]
  },
  {
   "cell_type": "code",
   "execution_count": 2,
   "metadata": {},
   "outputs": [
    {
     "data": {
      "text/plain": [
       "<bound method DataFrame.any of          Destination Port   Flow Duration   Total Fwd Packets  \\\n",
       "0                   False           False               False   \n",
       "1                   False           False               False   \n",
       "2                   False           False               False   \n",
       "3                   False           False               False   \n",
       "4                   False           False               False   \n",
       "...                   ...             ...                 ...   \n",
       "286462              False           False               False   \n",
       "286463              False           False               False   \n",
       "286464              False           False               False   \n",
       "286465              False           False               False   \n",
       "286466              False           False               False   \n",
       "\n",
       "         Total Backward Packets  Total Length of Fwd Packets  \\\n",
       "0                         False                        False   \n",
       "1                         False                        False   \n",
       "2                         False                        False   \n",
       "3                         False                        False   \n",
       "4                         False                        False   \n",
       "...                         ...                          ...   \n",
       "286462                    False                        False   \n",
       "286463                    False                        False   \n",
       "286464                    False                        False   \n",
       "286465                    False                        False   \n",
       "286466                    False                        False   \n",
       "\n",
       "         Total Length of Bwd Packets   Fwd Packet Length Max  \\\n",
       "0                              False                   False   \n",
       "1                              False                   False   \n",
       "2                              False                   False   \n",
       "3                              False                   False   \n",
       "4                              False                   False   \n",
       "...                              ...                     ...   \n",
       "286462                         False                   False   \n",
       "286463                         False                   False   \n",
       "286464                         False                   False   \n",
       "286465                         False                   False   \n",
       "286466                         False                   False   \n",
       "\n",
       "         Fwd Packet Length Min   Fwd Packet Length Mean  \\\n",
       "0                        False                    False   \n",
       "1                        False                    False   \n",
       "2                        False                    False   \n",
       "3                        False                    False   \n",
       "4                        False                    False   \n",
       "...                        ...                      ...   \n",
       "286462                   False                    False   \n",
       "286463                   False                    False   \n",
       "286464                   False                    False   \n",
       "286465                   False                    False   \n",
       "286466                   False                    False   \n",
       "\n",
       "         Fwd Packet Length Std  ...   min_seg_size_forward  Active Mean  \\\n",
       "0                        False  ...                  False        False   \n",
       "1                        False  ...                  False        False   \n",
       "2                        False  ...                  False        False   \n",
       "3                        False  ...                  False        False   \n",
       "4                        False  ...                  False        False   \n",
       "...                        ...  ...                    ...          ...   \n",
       "286462                   False  ...                  False        False   \n",
       "286463                   False  ...                  False        False   \n",
       "286464                   False  ...                  False        False   \n",
       "286465                   False  ...                  False        False   \n",
       "286466                   False  ...                  False        False   \n",
       "\n",
       "         Active Std   Active Max   Active Min  Idle Mean   Idle Std  \\\n",
       "0             False        False        False      False      False   \n",
       "1             False        False        False      False      False   \n",
       "2             False        False        False      False      False   \n",
       "3             False        False        False      False      False   \n",
       "4             False        False        False      False      False   \n",
       "...             ...          ...          ...        ...        ...   \n",
       "286462        False        False        False      False      False   \n",
       "286463        False        False        False      False      False   \n",
       "286464        False        False        False      False      False   \n",
       "286465        False        False        False      False      False   \n",
       "286466        False        False        False      False      False   \n",
       "\n",
       "         Idle Max   Idle Min   Label  \n",
       "0           False      False   False  \n",
       "1           False      False   False  \n",
       "2           False      False   False  \n",
       "3           False      False   False  \n",
       "4           False      False   False  \n",
       "...           ...        ...     ...  \n",
       "286462      False      False   False  \n",
       "286463      False      False   False  \n",
       "286464      False      False   False  \n",
       "286465      False      False   False  \n",
       "286466      False      False   False  \n",
       "\n",
       "[286467 rows x 65 columns]>"
      ]
     },
     "execution_count": 2,
     "metadata": {},
     "output_type": "execute_result"
    }
   ],
   "source": [
    "df = pd.read_csv('Documents/Univiersity/HonsProject/MachineLearningcsv/Cleanedcsv1/csvfile_4.csv')\n",
    "df.isna().any\n"
   ]
  },
  {
   "cell_type": "code",
   "execution_count": 3,
   "metadata": {},
   "outputs": [
    {
     "data": {
      "text/plain": [
       "(286467, 65)"
      ]
     },
     "execution_count": 3,
     "metadata": {},
     "output_type": "execute_result"
    }
   ],
   "source": [
    "df.shape\n"
   ]
  },
  {
   "cell_type": "code",
   "execution_count": 4,
   "metadata": {},
   "outputs": [
    {
     "data": {
      "text/html": [
       "<div>\n",
       "<style scoped>\n",
       "    .dataframe tbody tr th:only-of-type {\n",
       "        vertical-align: middle;\n",
       "    }\n",
       "\n",
       "    .dataframe tbody tr th {\n",
       "        vertical-align: top;\n",
       "    }\n",
       "\n",
       "    .dataframe thead th {\n",
       "        text-align: right;\n",
       "    }\n",
       "</style>\n",
       "<table border=\"1\" class=\"dataframe\">\n",
       "  <thead>\n",
       "    <tr style=\"text-align: right;\">\n",
       "      <th></th>\n",
       "      <th>Destination Port</th>\n",
       "      <th>Flow Duration</th>\n",
       "      <th>Total Fwd Packets</th>\n",
       "      <th>Total Backward Packets</th>\n",
       "      <th>Total Length of Fwd Packets</th>\n",
       "      <th>Total Length of Bwd Packets</th>\n",
       "      <th>Fwd Packet Length Max</th>\n",
       "      <th>Fwd Packet Length Min</th>\n",
       "      <th>Fwd Packet Length Mean</th>\n",
       "      <th>Fwd Packet Length Std</th>\n",
       "      <th>...</th>\n",
       "      <th>min_seg_size_forward</th>\n",
       "      <th>Active Mean</th>\n",
       "      <th>Active Std</th>\n",
       "      <th>Active Max</th>\n",
       "      <th>Active Min</th>\n",
       "      <th>Idle Mean</th>\n",
       "      <th>Idle Std</th>\n",
       "      <th>Idle Max</th>\n",
       "      <th>Idle Min</th>\n",
       "      <th>Label</th>\n",
       "    </tr>\n",
       "  </thead>\n",
       "  <tbody>\n",
       "    <tr>\n",
       "      <th>0</th>\n",
       "      <td>22</td>\n",
       "      <td>1266342</td>\n",
       "      <td>41</td>\n",
       "      <td>44</td>\n",
       "      <td>2664</td>\n",
       "      <td>6954</td>\n",
       "      <td>456</td>\n",
       "      <td>0</td>\n",
       "      <td>64.975610</td>\n",
       "      <td>109.864573</td>\n",
       "      <td>...</td>\n",
       "      <td>32</td>\n",
       "      <td>0.0</td>\n",
       "      <td>0.0</td>\n",
       "      <td>0</td>\n",
       "      <td>0</td>\n",
       "      <td>0.0</td>\n",
       "      <td>0.0</td>\n",
       "      <td>0</td>\n",
       "      <td>0</td>\n",
       "      <td>1</td>\n",
       "    </tr>\n",
       "    <tr>\n",
       "      <th>1</th>\n",
       "      <td>22</td>\n",
       "      <td>1319353</td>\n",
       "      <td>41</td>\n",
       "      <td>44</td>\n",
       "      <td>2664</td>\n",
       "      <td>6954</td>\n",
       "      <td>456</td>\n",
       "      <td>0</td>\n",
       "      <td>64.975610</td>\n",
       "      <td>109.864573</td>\n",
       "      <td>...</td>\n",
       "      <td>32</td>\n",
       "      <td>0.0</td>\n",
       "      <td>0.0</td>\n",
       "      <td>0</td>\n",
       "      <td>0</td>\n",
       "      <td>0.0</td>\n",
       "      <td>0.0</td>\n",
       "      <td>0</td>\n",
       "      <td>0</td>\n",
       "      <td>1</td>\n",
       "    </tr>\n",
       "    <tr>\n",
       "      <th>2</th>\n",
       "      <td>22</td>\n",
       "      <td>160</td>\n",
       "      <td>1</td>\n",
       "      <td>1</td>\n",
       "      <td>0</td>\n",
       "      <td>0</td>\n",
       "      <td>0</td>\n",
       "      <td>0</td>\n",
       "      <td>0.000000</td>\n",
       "      <td>0.000000</td>\n",
       "      <td>...</td>\n",
       "      <td>32</td>\n",
       "      <td>0.0</td>\n",
       "      <td>0.0</td>\n",
       "      <td>0</td>\n",
       "      <td>0</td>\n",
       "      <td>0.0</td>\n",
       "      <td>0.0</td>\n",
       "      <td>0</td>\n",
       "      <td>0</td>\n",
       "      <td>1</td>\n",
       "    </tr>\n",
       "    <tr>\n",
       "      <th>3</th>\n",
       "      <td>22</td>\n",
       "      <td>1303488</td>\n",
       "      <td>41</td>\n",
       "      <td>42</td>\n",
       "      <td>2728</td>\n",
       "      <td>6634</td>\n",
       "      <td>456</td>\n",
       "      <td>0</td>\n",
       "      <td>66.536585</td>\n",
       "      <td>110.129945</td>\n",
       "      <td>...</td>\n",
       "      <td>32</td>\n",
       "      <td>0.0</td>\n",
       "      <td>0.0</td>\n",
       "      <td>0</td>\n",
       "      <td>0</td>\n",
       "      <td>0.0</td>\n",
       "      <td>0.0</td>\n",
       "      <td>0</td>\n",
       "      <td>0</td>\n",
       "      <td>1</td>\n",
       "    </tr>\n",
       "    <tr>\n",
       "      <th>4</th>\n",
       "      <td>35396</td>\n",
       "      <td>77</td>\n",
       "      <td>1</td>\n",
       "      <td>2</td>\n",
       "      <td>0</td>\n",
       "      <td>0</td>\n",
       "      <td>0</td>\n",
       "      <td>0</td>\n",
       "      <td>0.000000</td>\n",
       "      <td>0.000000</td>\n",
       "      <td>...</td>\n",
       "      <td>32</td>\n",
       "      <td>0.0</td>\n",
       "      <td>0.0</td>\n",
       "      <td>0</td>\n",
       "      <td>0</td>\n",
       "      <td>0.0</td>\n",
       "      <td>0.0</td>\n",
       "      <td>0</td>\n",
       "      <td>0</td>\n",
       "      <td>1</td>\n",
       "    </tr>\n",
       "  </tbody>\n",
       "</table>\n",
       "<p>5 rows × 65 columns</p>\n",
       "</div>"
      ],
      "text/plain": [
       "    Destination Port   Flow Duration   Total Fwd Packets  \\\n",
       "0                 22         1266342                  41   \n",
       "1                 22         1319353                  41   \n",
       "2                 22             160                   1   \n",
       "3                 22         1303488                  41   \n",
       "4              35396              77                   1   \n",
       "\n",
       "    Total Backward Packets  Total Length of Fwd Packets  \\\n",
       "0                       44                         2664   \n",
       "1                       44                         2664   \n",
       "2                        1                            0   \n",
       "3                       42                         2728   \n",
       "4                        2                            0   \n",
       "\n",
       "    Total Length of Bwd Packets   Fwd Packet Length Max  \\\n",
       "0                          6954                     456   \n",
       "1                          6954                     456   \n",
       "2                             0                       0   \n",
       "3                          6634                     456   \n",
       "4                             0                       0   \n",
       "\n",
       "    Fwd Packet Length Min   Fwd Packet Length Mean   Fwd Packet Length Std  \\\n",
       "0                       0                64.975610              109.864573   \n",
       "1                       0                64.975610              109.864573   \n",
       "2                       0                 0.000000                0.000000   \n",
       "3                       0                66.536585              110.129945   \n",
       "4                       0                 0.000000                0.000000   \n",
       "\n",
       "   ...   min_seg_size_forward  Active Mean   Active Std   Active Max  \\\n",
       "0  ...                     32          0.0          0.0            0   \n",
       "1  ...                     32          0.0          0.0            0   \n",
       "2  ...                     32          0.0          0.0            0   \n",
       "3  ...                     32          0.0          0.0            0   \n",
       "4  ...                     32          0.0          0.0            0   \n",
       "\n",
       "    Active Min  Idle Mean   Idle Std   Idle Max   Idle Min   Label  \n",
       "0            0        0.0        0.0          0          0       1  \n",
       "1            0        0.0        0.0          0          0       1  \n",
       "2            0        0.0        0.0          0          0       1  \n",
       "3            0        0.0        0.0          0          0       1  \n",
       "4            0        0.0        0.0          0          0       1  \n",
       "\n",
       "[5 rows x 65 columns]"
      ]
     },
     "execution_count": 4,
     "metadata": {},
     "output_type": "execute_result"
    }
   ],
   "source": [
    "df.head()"
   ]
  },
  {
   "cell_type": "code",
   "execution_count": null,
   "metadata": {},
   "outputs": [],
   "source": []
  },
  {
   "cell_type": "code",
   "execution_count": null,
   "metadata": {},
   "outputs": [],
   "source": []
  },
  {
   "cell_type": "code",
   "execution_count": null,
   "metadata": {},
   "outputs": [],
   "source": []
  },
  {
   "cell_type": "code",
   "execution_count": 5,
   "metadata": {},
   "outputs": [],
   "source": [
    "samples = df.values"
   ]
  },
  {
   "cell_type": "code",
   "execution_count": 6,
   "metadata": {},
   "outputs": [],
   "source": [
    "kmeans = KMeans(n_clusters=3)"
   ]
  },
  {
   "cell_type": "code",
   "execution_count": 7,
   "metadata": {},
   "outputs": [
    {
     "data": {
      "text/plain": [
       "KMeans(algorithm='auto', copy_x=True, init='k-means++', max_iter=300,\n",
       "       n_clusters=3, n_init=10, n_jobs=None, precompute_distances='auto',\n",
       "       random_state=None, tol=0.0001, verbose=0)"
      ]
     },
     "execution_count": 7,
     "metadata": {},
     "output_type": "execute_result"
    }
   ],
   "source": [
    "kmeans.fit(samples)"
   ]
  },
  {
   "cell_type": "code",
   "execution_count": 9,
   "metadata": {},
   "outputs": [
    {
     "data": {
      "text/plain": [
       "array([0, 0, 0, ..., 0, 0, 0])"
      ]
     },
     "execution_count": 9,
     "metadata": {},
     "output_type": "execute_result"
    }
   ],
   "source": [
    "kmeans.labels_"
   ]
  },
  {
   "cell_type": "code",
   "execution_count": 10,
   "metadata": {},
   "outputs": [],
   "source": [
    "clusters = kmeans.cluster_centers_"
   ]
  },
  {
   "cell_type": "code",
   "execution_count": 11,
   "metadata": {},
   "outputs": [
    {
     "name": "stdout",
     "output_type": "stream",
     "text": [
      "[[ 8.43608268e+03  6.46280284e+05  2.12496009e+00  1.94559214e+00\n",
      "   1.26876930e+02  9.40180352e+02  5.25476826e+01  1.06075771e+01\n",
      "   2.11031933e+01  1.68660160e+01  1.17274480e+02  2.81949471e+01\n",
      "   5.96103236e+01  3.46963506e+01  8.25469986e+04  1.53062786e+05\n",
      "   4.43283362e+05  1.12906513e+04  5.50580603e+05  1.31276935e+05\n",
      "   1.46334386e+05  3.92264423e+05  4.95146912e+04  3.94960929e+05\n",
      "   8.92820426e+04  6.62028109e+04  2.17960985e+05  4.86287517e+04\n",
      "   1.90766995e-02  5.87267716e+01  4.68338624e+01  4.35350423e+04\n",
      "   2.21917571e+04  1.03738894e+01  1.33197608e+02  3.75300048e+01\n",
      "   4.32890577e+01  2.35127061e+04  9.13464891e-03  1.90766995e-02\n",
      "   6.53723773e-01  1.26017051e-01  4.69650872e-02  8.68771538e-01\n",
      "   4.48595343e+01  2.11031933e+01  5.96103236e+01  5.87267716e+01\n",
      "   2.12496009e+00  1.26876930e+02  1.94559214e+00  9.40180352e+02\n",
      "   1.09392877e+04  1.09158318e+03  8.56579773e-01  2.93020526e+01\n",
      "   1.53607836e+04  3.77617436e+03  1.92118418e+04  1.29710535e+04\n",
      "   2.72679676e+05  4.61482387e+03  2.76195520e+05  2.68693155e+05\n",
      "   1.58262839e+00]\n",
      " [ 6.33403783e+02  9.33003535e+07  2.73674951e+01  3.62744667e+01\n",
      "   1.54116428e+03  4.62693873e+04  3.75590939e+02  1.59887838e+01\n",
      "   6.82497396e+01  9.51774248e+01  1.12075610e+03  3.56890257e+01\n",
      "   3.59046386e+02  3.36701207e+02  1.12814983e+07  2.41244495e+07\n",
      "   6.60235980e+07  3.17098241e+04  9.31072778e+07  3.06439539e+07\n",
      "   1.34837642e+07  6.59772446e+07  2.50153001e+07  9.04332881e+07\n",
      "   3.35447983e+07  1.17393246e+07  6.43555146e+07  2.84694641e+07\n",
      "   1.10182538e-01  6.71222344e+02  8.47125577e+02  2.98298000e-01\n",
      "   4.00088186e-01  1.59683308e+01  1.18464878e+03  2.18958460e+02\n",
      "   3.09713639e+02  1.91677922e+05 -2.53269627e-16  1.10182538e-01\n",
      "   5.46734110e-01  1.13481416e-01 -3.15025783e-15  7.07279525e-01\n",
      "   2.29221286e+02  6.82497396e+01  3.59046386e+02  6.71222344e+02\n",
      "   2.73674951e+01  1.54116428e+03  3.62744667e+01  4.62693873e+04\n",
      "   1.07795206e+04  5.36262591e+02  2.03301078e+01  2.40087970e+01\n",
      "   5.18063264e+05  2.16855298e+05  6.75688475e+05  3.64833649e+05\n",
      "   6.35621242e+07  2.68062816e+06  6.55855682e+07  6.16475941e+07\n",
      "   1.03804706e+00]\n",
      " [ 3.23707976e+02  9.96362873e+07  3.08795678e+01  3.31992374e+01\n",
      "   2.67817191e+03  3.27264656e+04  7.61300074e+02  2.61307065e-01\n",
      "   9.05019504e+01  2.13547437e+02  1.70867969e+03  2.84747378e+00\n",
      "   4.27057430e+02  5.27838606e+02  2.60894415e+06  4.26383477e+06\n",
      "   1.06709164e+07  8.42568181e+03  9.87256647e+07  5.09232980e+06\n",
      "   4.71685662e+06  1.07140782e+07  1.27593026e+05  9.58036105e+07\n",
      "   5.45813196e+06  4.45700669e+06  1.03429809e+07  2.19184159e+05\n",
      "   3.33651096e-02  7.69138439e+02  8.84886770e+02  3.13801444e-01\n",
      "   3.39829790e-01  1.24668997e-01  1.85959083e+03  2.63694606e+02\n",
      "   4.75319441e+02  3.08442330e+05  1.05920983e-04  3.33651096e-02\n",
      "   9.16746107e-01  7.43565300e-02 -7.55645546e-15  3.95932634e-01\n",
      "   2.68550305e+02  9.05019504e+01  4.27057430e+02  7.69138439e+02\n",
      "   3.08795678e+01  2.67817191e+03  3.31992374e+01  3.27264656e+04\n",
      "   1.72619910e+04  3.28631978e+03  1.79378244e+01  2.49719309e+01\n",
      "   3.41610679e+05  4.82937388e+05  1.48250678e+06  1.08785911e+05\n",
      "   1.01559516e+07  4.32860928e+05  1.04215520e+07  9.16962016e+06\n",
      "   1.00031776e+00]]\n"
     ]
    }
   ],
   "source": [
    "print(clusters)"
   ]
  },
  {
   "cell_type": "code",
   "execution_count": 12,
   "metadata": {},
   "outputs": [
    {
     "data": {
      "text/plain": [
       "array([1, 1, 1, ..., 1, 1, 1])"
      ]
     },
     "execution_count": 12,
     "metadata": {},
     "output_type": "execute_result"
    }
   ],
   "source": [
    "y_km = kmeans.fit_predict(samples)\n",
    "y_km\n"
   ]
  },
  {
   "cell_type": "code",
   "execution_count": 13,
   "metadata": {},
   "outputs": [
    {
     "data": {
      "text/plain": [
       "<matplotlib.collections.PathCollection at 0x185813c3f48>"
      ]
     },
     "execution_count": 13,
     "metadata": {},
     "output_type": "execute_result"
    },
    {
     "data": {
      "image/png": "[encoded data removed]",
      "text/plain": [
       "<Figure size 432x288 with 1 Axes>"
      ]
     },
     "metadata": {},
     "output_type": "display_data"
    }
   ],
   "source": [
    "n = 8\n",
    "m = 9\n",
    "\n",
    "plt.scatter(samples[y_km == 0,n], samples[y_km == 0,m], s=10, edgecolors=\"black\", linewidth=.2, color='red')\n",
    "plt.scatter(samples[y_km == 1,n], samples[y_km == 1,m], s=10, edgecolors=\"black\", linewidth=.2, color='blue')\n",
    "plt.scatter(samples[y_km == 2,n], samples[y_km == 2,m], s=10, edgecolors=\"black\", linewidth=.2, color=\"green\")\n",
    "\n",
    "\n",
    "\n",
    "plt.scatter(clusters[0][n], clusters[0][m], marker='*', s=100, edgecolors=\"white\", linewidth=.2, color='black')\n",
    "plt.scatter(clusters[1][n], clusters[1][m], marker='*', s=100, edgecolors=\"white\", linewidth=.2, color='black')\n",
    "plt.scatter(clusters[2][n], clusters[2][m], marker='*', s=100, edgecolors=\"white\", linewidth=.2, color='black')\n"
   ]
  },
  {
   "cell_type": "code",
   "execution_count": 29,
   "metadata": {},
   "outputs": [
    {
     "data": {
      "image/png": "[encoded data removed]",
      "text/plain": [
       "<Figure size 432x288 with 1 Axes>"
      ]
     },
     "metadata": {},
     "output_type": "display_data"
    }
   ],
   "source": [
    "plt.scatter(samples[:,0], samples[:,1], c=kmeans.labels_, cmap='rainbow')\n",
    "plt.show()"
   ]
  },
  {
   "cell_type": "code",
   "execution_count": 14,
   "metadata": {},
   "outputs": [
    {
     "data": {
      "text/plain": [
       "8.636195547073475e+19"
      ]
     },
     "execution_count": 14,
     "metadata": {},
     "output_type": "execute_result"
    }
   ],
   "source": [
    "kmeans.inertia_"
   ]
  },
  {
   "cell_type": "code",
   "execution_count": 15,
   "metadata": {},
   "outputs": [],
   "source": [
    "wcss = []\n",
    "for i in range(1,7):\n",
    "    kmeans = KMeans(i)\n",
    "    kmeans.fit(samples)\n",
    "    wcss_iter = kmeans.inertia_\n",
    "    wcss.append(wcss_iter)"
   ]
  },
  {
   "cell_type": "code",
   "execution_count": 16,
   "metadata": {},
   "outputs": [
    {
     "data": {
      "text/plain": [
       "[5.8802177447145085e+20,\n",
       " 1.5140204931798614e+20,\n",
       " 8.636195989254657e+19,\n",
       " 6.147420512637523e+19,\n",
       " 3.746226055246356e+19,\n",
       " 2.91782009570809e+19]"
      ]
     },
     "execution_count": 16,
     "metadata": {},
     "output_type": "execute_result"
    }
   ],
   "source": [
    "wcss"
   ]
  },
  {
   "cell_type": "code",
   "execution_count": 17,
   "metadata": {},
   "outputs": [
    {
     "data": {
      "text/plain": [
       "Text(0, 0.5, 'Within-cluster Sum of Squares - WCSS')"
      ]
     },
     "execution_count": 17,
     "metadata": {},
     "output_type": "execute_result"
    },
    {
     "data": {
      "image/png": "[encoded data removed]",
      "text/plain": [
       "<Figure size 432x288 with 1 Axes>"
      ]
     },
     "metadata": {},
     "output_type": "display_data"
    }
   ],
   "source": [
    "number_clusters = range(1,7)\n",
    "plt.plot(number_clusters,wcss)\n",
    "plt.title('The Elbow Method')\n",
    "plt.xlabel('Number of clusters')\n",
    "plt.ylabel('Within-cluster Sum of Squares - WCSS')"
   ]
  },
  {
   "cell_type": "code",
   "execution_count": 23,
   "metadata": {},
   "outputs": [
    {
     "data": {
      "text/plain": [
       "array([[1, 1, 1, ..., 1, 1, 1]])"
      ]
     },
     "execution_count": 23,
     "metadata": {},
     "output_type": "execute_result"
    }
   ],
   "source": [
    "y_km.reshape(1, -1)"
   ]
  },
  {
   "cell_type": "code",
   "execution_count": 24,
   "metadata": {},
   "outputs": [
    {
     "name": "stdout",
     "output_type": "stream",
     "text": [
      "[[     0   6574      9   2839      0     19]\n",
      " [270362      0    108   2009      0      0]\n",
      " [     0      0   1433      0    842   2272]\n",
      " [     0      0      0      0      0      0]\n",
      " [     0      0      0      0      0      0]\n",
      " [     0      0      0      0      0      0]]\n"
     ]
    },
    {
     "ename": "ValueError",
     "evalue": "Expected 2D array, got 1D array instead:\narray=[0. 1. 2. 3. 4. 5.].\nReshape your data either using array.reshape(-1, 1) if your data has a single feature or array.reshape(1, -1) if it contains a single sample.",
     "output_type": "error",
     "traceback": [
      "\u001b[1;31m---------------------------------------------------------------------------\u001b[0m",
      "\u001b[1;31mValueError\u001b[0m                                Traceback (most recent call last)",
      "\u001b[1;32m<ipython-input-24-916843aa8efe>\u001b[0m in \u001b[0;36m<module>\u001b[1;34m\u001b[0m\n\u001b[0;32m     33\u001b[0m \u001b[0mplt\u001b[0m\u001b[1;33m.\u001b[0m\u001b[0mfigure\u001b[0m\u001b[1;33m(\u001b[0m\u001b[1;33m)\u001b[0m\u001b[1;33m\u001b[0m\u001b[1;33m\u001b[0m\u001b[0m\n\u001b[0;32m     34\u001b[0m plot_confusion_matrix(cnf_matrix, classes=['Attack','Begnin', 'Potential'],\n\u001b[1;32m---> 35\u001b[1;33m                       title='Confusion matrix, without normalization')\n\u001b[0m",
      "\u001b[1;32m<ipython-input-24-916843aa8efe>\u001b[0m in \u001b[0;36mplot_confusion_matrix\u001b[1;34m(cm, classes, normalize, title, cmap)\u001b[0m\n\u001b[0;32m     16\u001b[0m     \u001b[0mthresh\u001b[0m \u001b[1;33m=\u001b[0m \u001b[0mcm\u001b[0m\u001b[1;33m.\u001b[0m\u001b[0mmax\u001b[0m\u001b[1;33m(\u001b[0m\u001b[1;33m)\u001b[0m \u001b[1;33m/\u001b[0m \u001b[1;36m2.\u001b[0m\u001b[1;33m\u001b[0m\u001b[1;33m\u001b[0m\u001b[0m\n\u001b[0;32m     17\u001b[0m \u001b[1;33m\u001b[0m\u001b[0m\n\u001b[1;32m---> 18\u001b[1;33m     \u001b[1;32mfor\u001b[0m \u001b[0mi\u001b[0m\u001b[1;33m,\u001b[0m \u001b[0mj\u001b[0m \u001b[1;32min\u001b[0m \u001b[0mkmeans\u001b[0m\u001b[1;33m.\u001b[0m\u001b[0mfit\u001b[0m\u001b[1;33m(\u001b[0m\u001b[0mrange\u001b[0m\u001b[1;33m(\u001b[0m\u001b[0mcm\u001b[0m\u001b[1;33m.\u001b[0m\u001b[0mshape\u001b[0m\u001b[1;33m[\u001b[0m\u001b[1;36m0\u001b[0m\u001b[1;33m]\u001b[0m\u001b[1;33m)\u001b[0m\u001b[1;33m,\u001b[0m \u001b[0mrange\u001b[0m\u001b[1;33m(\u001b[0m\u001b[0mcm\u001b[0m\u001b[1;33m.\u001b[0m\u001b[0mshape\u001b[0m\u001b[1;33m[\u001b[0m\u001b[1;36m1\u001b[0m\u001b[1;33m]\u001b[0m\u001b[1;33m)\u001b[0m\u001b[1;33m)\u001b[0m\u001b[1;33m:\u001b[0m\u001b[1;33m\u001b[0m\u001b[1;33m\u001b[0m\u001b[0m\n\u001b[0m\u001b[0;32m     19\u001b[0m         plt.text(j, i, format(cm[i, j], fmt),\n\u001b[0;32m     20\u001b[0m         \u001b[0mhorizontalalignment\u001b[0m\u001b[1;33m=\u001b[0m\u001b[1;34m\"center\"\u001b[0m\u001b[1;33m,\u001b[0m\u001b[1;33m\u001b[0m\u001b[1;33m\u001b[0m\u001b[0m\n",
      "\u001b[1;32m~\\Miniconda3\\lib\\site-packages\\sklearn\\cluster\\_kmeans.py\u001b[0m in \u001b[0;36mfit\u001b[1;34m(self, X, y, sample_weight)\u001b[0m\n\u001b[0;32m    857\u001b[0m         \u001b[0morder\u001b[0m \u001b[1;33m=\u001b[0m \u001b[1;34m\"C\"\u001b[0m \u001b[1;32mif\u001b[0m \u001b[0mself\u001b[0m\u001b[1;33m.\u001b[0m\u001b[0mcopy_x\u001b[0m \u001b[1;32melse\u001b[0m \u001b[1;32mNone\u001b[0m\u001b[1;33m\u001b[0m\u001b[1;33m\u001b[0m\u001b[0m\n\u001b[0;32m    858\u001b[0m         X = check_array(X, accept_sparse='csr', dtype=[np.float64, np.float32],\n\u001b[1;32m--> 859\u001b[1;33m                         order=order, copy=self.copy_x)\n\u001b[0m\u001b[0;32m    860\u001b[0m         \u001b[1;31m# verify that the number of samples given is larger than k\u001b[0m\u001b[1;33m\u001b[0m\u001b[1;33m\u001b[0m\u001b[1;33m\u001b[0m\u001b[0m\n\u001b[0;32m    861\u001b[0m         \u001b[1;32mif\u001b[0m \u001b[0m_num_samples\u001b[0m\u001b[1;33m(\u001b[0m\u001b[0mX\u001b[0m\u001b[1;33m)\u001b[0m \u001b[1;33m<\u001b[0m \u001b[0mself\u001b[0m\u001b[1;33m.\u001b[0m\u001b[0mn_clusters\u001b[0m\u001b[1;33m:\u001b[0m\u001b[1;33m\u001b[0m\u001b[1;33m\u001b[0m\u001b[0m\n",
      "\u001b[1;32m~\\Miniconda3\\lib\\site-packages\\sklearn\\utils\\validation.py\u001b[0m in \u001b[0;36mcheck_array\u001b[1;34m(array, accept_sparse, accept_large_sparse, dtype, order, copy, force_all_finite, ensure_2d, allow_nd, ensure_min_samples, ensure_min_features, warn_on_dtype, estimator)\u001b[0m\n\u001b[0;32m    554\u001b[0m                     \u001b[1;34m\"Reshape your data either using array.reshape(-1, 1) if \"\u001b[0m\u001b[1;33m\u001b[0m\u001b[1;33m\u001b[0m\u001b[0m\n\u001b[0;32m    555\u001b[0m                     \u001b[1;34m\"your data has a single feature or array.reshape(1, -1) \"\u001b[0m\u001b[1;33m\u001b[0m\u001b[1;33m\u001b[0m\u001b[0m\n\u001b[1;32m--> 556\u001b[1;33m                     \"if it contains a single sample.\".format(array))\n\u001b[0m\u001b[0;32m    557\u001b[0m \u001b[1;33m\u001b[0m\u001b[0m\n\u001b[0;32m    558\u001b[0m         \u001b[1;31m# in the future np.flexible dtypes will be handled like object dtypes\u001b[0m\u001b[1;33m\u001b[0m\u001b[1;33m\u001b[0m\u001b[1;33m\u001b[0m\u001b[0m\n",
      "\u001b[1;31mValueError\u001b[0m: Expected 2D array, got 1D array instead:\narray=[0. 1. 2. 3. 4. 5.].\nReshape your data either using array.reshape(-1, 1) if your data has a single feature or array.reshape(1, -1) if it contains a single sample."
     ]
    },
    {
     "data": {
      "image/png": "[encoded data removed]",
      "text/plain": [
       "<Figure size 432x288 with 2 Axes>"
      ]
     },
     "metadata": {},
     "output_type": "display_data"
    }
   ],
   "source": [
    "#Evaluation of Model - Confusion Matrix Plot\n",
    "def plot_confusion_matrix(cm, classes,\n",
    "                          normalize=False,\n",
    "                          title='Confusion matrix',\n",
    "                          cmap=plt.cm.Blues):\n",
    "    print(cm)\n",
    "    \n",
    "    plt.imshow(cm, interpolation='nearest', cmap=cmap)\n",
    "    plt.title(title)\n",
    "    plt.colorbar()\n",
    "    tick_marks = np.arange(len(classes))\n",
    "    plt.xticks(tick_marks, classes, rotation=45)\n",
    "    plt.yticks(tick_marks, classes)\n",
    "    \n",
    "    fmt = '.2f' if normalize else 'd'\n",
    "    thresh = cm.max() / 2.\n",
    "    \n",
    "    for i, j in kmeans.fit(range(cm.shape[0]), range(cm.shape[1])):\n",
    "        plt.text(j, i, format(cm[i, j], fmt),\n",
    "        horizontalalignment=\"center\",\n",
    "        color=\"white\" if cm[i, j] > thresh else \"black\")\n",
    "\n",
    "    plt.ylabel('True label')\n",
    "    plt.xlabel('Predicted label')\n",
    "    plt.tight_layout()\n",
    "\n",
    "\n",
    "# Compute confusion matrix\n",
    "cnf_matrix = confusion_matrix(y_km, kmeans.labels_)\n",
    "np.set_printoptions(precision=2)\n",
    "\n",
    "# Plot non-normalized confusion matrix\n",
    "plt.figure()\n",
    "plot_confusion_matrix(cnf_matrix, classes=['Attack','Begnin', 'Potential'],\n",
    "                      title='Confusion matrix, without normalization')"
   ]
  },
  {
   "cell_type": "code",
   "execution_count": null,
   "metadata": {},
   "outputs": [],
   "source": []
  }
 ],
 "metadata": {
  "kernelspec": {
   "display_name": "Python 3",
   "language": "python",
   "name": "python3"
  },
  "language_info": {
   "codemirror_mode": {
    "name": "ipython",
    "version": 3
   },
   "file_extension": ".py",
   "mimetype": "text/x-python",
   "name": "python",
   "nbconvert_exporter": "python",
   "pygments_lexer": "ipython3",
   "version": "3.7.4"
  }
 },
 "nbformat": 4,
 "nbformat_minor": 4
}
