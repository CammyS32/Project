{
 "cells": [
  {
   "cell_type": "code",
   "execution_count": 15,
   "metadata": {},
   "outputs": [],
   "source": [
    "import numpy as np\n",
    "import pandas as pd \n",
    "from matplotlib import pyplot as plt"
   ]
  },
  {
   "cell_type": "code",
   "execution_count": 21,
   "metadata": {},
   "outputs": [],
   "source": [
    "df = pd.read_csv('Documents/Univiersity/HonsProject/MachineLearningcsv/Cleanedcsv1/Cleanedcsv2/Data_file_3.csv.csv')\n"
   ]
  },
  {
   "cell_type": "code",
   "execution_count": 22,
   "metadata": {},
   "outputs": [],
   "source": [
    "samples = df.values"
   ]
  },
  {
   "cell_type": "code",
   "execution_count": 23,
   "metadata": {},
   "outputs": [],
   "source": [
    "from sklearn.pipeline import make_pipeline\n",
    "from sklearn.preprocessing import StandardScaler\n",
    "from sklearn.cluster import KMeans"
   ]
  },
  {
   "cell_type": "code",
   "execution_count": 30,
   "metadata": {},
   "outputs": [],
   "source": [
    "kmeans = KMeans(n_clusters=3)"
   ]
  },
  {
   "cell_type": "code",
   "execution_count": 31,
   "metadata": {},
   "outputs": [
    {
     "data": {
      "text/plain": [
       "KMeans(algorithm='auto', copy_x=True, init='k-means++', max_iter=300,\n",
       "       n_clusters=3, n_init=10, n_jobs=None, precompute_distances='auto',\n",
       "       random_state=None, tol=0.0001, verbose=0)"
      ]
     },
     "execution_count": 31,
     "metadata": {},
     "output_type": "execute_result"
    }
   ],
   "source": [
    "kmeans.fit(samples)"
   ]
  },
  {
   "cell_type": "code",
   "execution_count": 32,
   "metadata": {},
   "outputs": [],
   "source": [
    "clusters = kmeans.cluster_centers_"
   ]
  },
  {
   "cell_type": "code",
   "execution_count": 33,
   "metadata": {},
   "outputs": [
    {
     "name": "stdout",
     "output_type": "stream",
     "text": [
      "[[ 7.92259714e+03  3.23590347e+06  3.76314536e+00  3.49840083e+00\n",
      "   5.21696713e+02  4.71321171e+03  3.03480368e+02  3.27535765e+01\n",
      "   1.05846145e+02  1.15271502e+02  2.37993487e+03  1.93872601e+01\n",
      "   7.79902940e+02  1.07107258e+03  6.75325976e+05  1.29177174e+06\n",
      "   2.76968414e+06  2.92272809e+04  2.33459085e+06  5.84016924e+05\n",
      "   9.76536062e+05  1.93772630e+06  4.76095243e+04  1.45437617e+06\n",
      "   2.73362550e+05  4.69773105e+05  1.03419932e+06  2.61098074e+04\n",
      "   3.09259463e-02  8.75889383e+01  8.20282563e+01  1.49035055e+04\n",
      "   1.93993826e+03  9.39801714e+00  2.64201198e+03  4.77875706e+02\n",
      "   9.45900142e+02  2.56399467e+06  3.15645660e-03  3.09259463e-02\n",
      "   3.96027995e-01  4.36391903e-01  1.22180520e-01  1.12824741e+00\n",
      "   5.39000062e+02  1.05846145e+02  7.79902940e+02  8.75889383e+01\n",
      "   3.76314536e+00  5.21696713e+02  3.49840083e+00  4.71321171e+03\n",
      "   4.67592657e+03  6.41230149e+02  2.46595686e+00  2.16755707e+01\n",
      "   3.44879528e+04  4.75468117e+03  4.16196987e+04  3.19596678e+04\n",
      "   2.07330614e+06  3.23249064e+03  2.07540769e+06  2.06970435e+06\n",
      "   9.32738349e+05]\n",
      " [ 8.72762660e+01  8.49572178e+07  8.46905267e+00  5.12014574e+00\n",
      "   6.26848538e+01  1.15520526e+04  2.22440273e+01  3.83728438e-02\n",
      "   7.40260674e+00  6.36343185e+00  7.16914570e+03  6.17101743e-02\n",
      "   2.30992998e+03  3.27090354e+03  7.01172474e+06  2.23383912e+07\n",
      "   7.83002354e+07  3.43619786e+04  8.42736510e+07  1.18220591e+07\n",
      "   2.90414016e+07  7.83002354e+07  3.45003826e+04  6.91600663e+05\n",
      "   1.74036873e+05  3.39873524e+05  6.83433604e+05  1.47627894e+02\n",
      "   1.70648464e-03  1.76173231e+02  1.14877963e+02  1.00239725e-01\n",
      "   6.12190484e-02  3.83728438e-02  7.16935264e+03  8.12203243e+02\n",
      "   2.11045469e+03  4.78081584e+06 -1.06728862e-15  1.70648464e-03\n",
      "   4.75048427e-03  9.93035698e-01  4.15090859e-04  1.84484826e-03\n",
      "   8.73891725e+02  7.40260674e+00  2.30992998e+03  1.76173231e+02\n",
      "   8.46905267e+00  6.26848538e+01  5.12014574e+00  1.15520526e+04\n",
      "   4.70831658e+02  2.31276727e+02  6.15736556e+00  1.99891154e+01\n",
      "   1.10879218e+06  1.13390453e+04  1.12888161e+06  1.09846459e+06\n",
      "   5.93154071e+07  2.64913345e+07  7.80620609e+07  4.05793290e+07\n",
      "   9.19635691e+05]\n",
      " [ 3.75488150e+04  9.26104615e+07  1.51984645e+01  1.94197313e+01\n",
      "   8.52642096e+03  1.49465300e+04  4.84556315e+03  2.78610365e+00\n",
      "   1.29195911e+03  2.02342737e+03  5.71795317e+02  5.30963532e+00\n",
      "   1.50481476e+02  1.66692303e+02  5.81721317e+06  1.75029635e+07\n",
      "   6.28354042e+07  1.46587839e+03  9.23204262e+07  1.57877288e+07\n",
      "   2.73751939e+07  6.64509757e+07  2.83834806e+06  9.12947025e+07\n",
      "   1.21249449e+07  2.04533897e+07  6.28564306e+07  3.52997771e+06\n",
      "   1.19385797e-01  3.54943570e+02  4.56496891e+02  1.55195068e-01\n",
      "   2.00987764e-01  2.00698656e+00  5.22807309e+03  5.64838343e+02\n",
      "   1.42851705e+03  2.78938409e+06 -7.56339436e-16  1.19385797e-01\n",
      "   2.69788868e-01  6.89520154e-01  6.46756238e-01  8.81535509e-01\n",
      "   5.98031417e+02  1.29195911e+03  1.50481476e+02  3.54943570e+02\n",
      "   1.51984645e+01  8.52642096e+03  1.94197313e+01  1.49465300e+04\n",
      "   4.24983179e+03  6.27293589e+02  1.09758157e+01  2.11411900e+01\n",
      "   8.51766542e+05  1.35561869e+05  1.11683726e+06  7.81148462e+05\n",
      "   4.97518176e+07  1.84549263e+07  6.28139697e+07  3.65068341e+07\n",
      "   9.31241242e+05]]\n"
     ]
    }
   ],
   "source": [
    "print(clusters)"
   ]
  },
  {
   "cell_type": "code",
   "execution_count": 34,
   "metadata": {},
   "outputs": [],
   "source": [
    "y_km = kmeans.fit_predict(samples)"
   ]
  },
  {
   "cell_type": "code",
   "execution_count": 36,
   "metadata": {},
   "outputs": [
    {
     "data": {
      "text/plain": [
       "<matplotlib.collections.PathCollection at 0x22581672dc8>"
      ]
     },
     "execution_count": 36,
     "metadata": {},
     "output_type": "execute_result"
    },
    {
     "data": {
      "image/png": "[encoded data removed]",
      "text/plain": [
       "<Figure size 432x288 with 1 Axes>"
      ]
     },
     "metadata": {
      "needs_background": "light"
     },
     "output_type": "display_data"
    }
   ],
   "source": [
    "\n",
    "plt.scatter(samples[y_km == 0,0], samples[y_km == 0,1], s=50, color='red')\n",
    "plt.scatter(samples[y_km == 1,0], samples[y_km == 1,1], s=50, color='blue')\n",
    "plt.scatter(samples[y_km == 2,0], samples[y_km == 2,1], s=50, color='yellow')\n",
    "\n",
    "\n",
    "plt.scatter(clusters[0][0], clusters[0][1], marker='*', s=500, color='black')\n",
    "plt.scatter(clusters[1][0], clusters[1][1], marker='*', s=500, color='black')\n",
    "plt.scatter(clusters[2][0], clusters[2][1], marker='*', s=500, color='black')\n"
   ]
  },
  {
   "cell_type": "code",
   "execution_count": null,
   "metadata": {},
   "outputs": [],
   "source": []
  }
 ],
 "metadata": {
  "kernelspec": {
   "display_name": "Python 3",
   "language": "python",
   "name": "python3"
  },
  "language_info": {
   "codemirror_mode": {
    "name": "ipython",
    "version": 3
   },
   "file_extension": ".py",
   "mimetype": "text/x-python",
   "name": "python",
   "nbconvert_exporter": "python",
   "pygments_lexer": "ipython3",
   "version": "3.7.4"
  }
 },
 "nbformat": 4,
 "nbformat_minor": 4
}
