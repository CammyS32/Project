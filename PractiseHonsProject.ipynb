{
 "cells": [
  {
   "cell_type": "code",
   "execution_count": 15,
   "metadata": {},
   "outputs": [],
   "source": [
    "import numpy as np\n",
    "import pandas as pd \n",
    "from matplotlib import pyplot as plt"
   ]
  },
  {
   "cell_type": "code",
   "execution_count": 55,
   "metadata": {},
   "outputs": [],
   "source": [
    "df = pd.read_csv('Documents/Univiersity/HonsProject/MachineLearningcsv/Cleanedcsv1/Cleanedcsv2/Data_file_4.csv.csv')\n"
   ]
  },
  {
   "cell_type": "code",
   "execution_count": 56,
   "metadata": {},
   "outputs": [],
   "source": [
    "samples = df.values"
   ]
  },
  {
   "cell_type": "code",
   "execution_count": 57,
   "metadata": {},
   "outputs": [],
   "source": [
    "from sklearn.pipeline import make_pipeline\n",
    "from sklearn.preprocessing import StandardScaler\n",
    "from sklearn.cluster import KMeans"
   ]
  },
  {
   "cell_type": "code",
   "execution_count": 58,
   "metadata": {},
   "outputs": [],
   "source": [
    "kmeans = KMeans(n_clusters=3)"
   ]
  },
  {
   "cell_type": "code",
   "execution_count": 59,
   "metadata": {},
   "outputs": [
    {
     "data": {
      "text/plain": [
       "KMeans(algorithm='auto', copy_x=True, init='k-means++', max_iter=300,\n",
       "       n_clusters=3, n_init=10, n_jobs=None, precompute_distances='auto',\n",
       "       random_state=None, tol=0.0001, verbose=0)"
      ]
     },
     "execution_count": 59,
     "metadata": {},
     "output_type": "execute_result"
    }
   ],
   "source": [
    "kmeans.fit(samples)"
   ]
  },
  {
   "cell_type": "code",
   "execution_count": 60,
   "metadata": {},
   "outputs": [],
   "source": [
    "clusters = kmeans.cluster_centers_"
   ]
  },
  {
   "cell_type": "code",
   "execution_count": 61,
   "metadata": {},
   "outputs": [
    {
     "name": "stdout",
     "output_type": "stream",
     "text": [
      "[[ 8.43612616e+03  6.46280381e+05  2.12482154e+00  1.94544127e+00\n",
      "   1.26868062e+02  9.40161709e+02  5.25463727e+01  1.06076329e+01\n",
      "   2.11030877e+01  1.68657365e+01  1.17271737e+02  2.81951321e+01\n",
      "   5.96101591e+01  3.46954578e+01  8.25475492e+04  1.53063528e+05\n",
      "   4.43283135e+05  1.12907342e+04  5.50579997e+05  1.31277782e+05\n",
      "   1.46334875e+05  3.92263646e+05  4.95150547e+04  3.94962662e+05\n",
      "   8.92826708e+04  6.62032248e+04  2.17962201e+05  4.86291087e+04\n",
      "   1.90768395e-02  5.87222555e+01  4.68289067e+01  4.35353618e+04\n",
      "   2.21919199e+04  1.03739435e+01  1.33194982e+02  3.75298479e+01\n",
      "   4.32884958e+01  2.35126678e+04  9.13471596e-03  1.90768395e-02\n",
      "   6.53724902e-01  1.26014306e-01  4.69654319e-02  8.68770575e-01\n",
      "   4.48594153e+01  2.11030877e+01  5.96101591e+01  5.87222555e+01\n",
      "   2.12482154e+00  1.26868062e+02  1.94544127e+00  9.40161709e+02\n",
      "   1.09392533e+04  1.09153103e+03  8.56497980e-01  2.93020769e+01\n",
      "   1.53608963e+04  3.77620208e+03  1.92119828e+04  1.29711487e+04\n",
      "   2.72681677e+05  4.61485774e+03  2.76197547e+05  2.68695127e+05\n",
      "   1.18902527e+06]\n",
      " [ 3.23707976e+02  9.96362873e+07  3.08795678e+01  3.31992374e+01\n",
      "   2.67817191e+03  3.27264656e+04  7.61300074e+02  2.61307065e-01\n",
      "   9.05019504e+01  2.13547437e+02  1.70867969e+03  2.84747378e+00\n",
      "   4.27057430e+02  5.27838606e+02  2.60894415e+06  4.26383477e+06\n",
      "   1.06709164e+07  8.42568181e+03  9.87256647e+07  5.09232980e+06\n",
      "   4.71685662e+06  1.07140782e+07  1.27593026e+05  9.58036105e+07\n",
      "   5.45813196e+06  4.45700669e+06  1.03429809e+07  2.19184159e+05\n",
      "   3.33651096e-02  7.69138439e+02  8.84886770e+02  3.13801445e-01\n",
      "   3.39829790e-01  1.24668997e-01  1.85959083e+03  2.63694606e+02\n",
      "   4.75319441e+02  3.08442330e+05  1.05920983e-04  3.33651096e-02\n",
      "   9.16746107e-01  7.43565300e-02  2.81719092e-15  3.95932634e-01\n",
      "   2.68550305e+02  9.05019504e+01  4.27057430e+02  7.69138439e+02\n",
      "   3.08795678e+01  2.67817191e+03  3.31992374e+01  3.27264656e+04\n",
      "   1.72619910e+04  3.28631978e+03  1.79378244e+01  2.49719309e+01\n",
      "   3.41610679e+05  4.82937388e+05  1.48250678e+06  1.08785911e+05\n",
      "   1.01559516e+07  4.32860928e+05  1.04215520e+07  9.16962016e+06\n",
      "   1.15630917e+06]\n",
      " [ 6.33403783e+02  9.33003535e+07  2.73674951e+01  3.62744667e+01\n",
      "   1.54116428e+03  4.62693873e+04  3.75590939e+02  1.59887838e+01\n",
      "   6.82497396e+01  9.51774248e+01  1.12075610e+03  3.56890257e+01\n",
      "   3.59046386e+02  3.36701207e+02  1.12814983e+07  2.41244495e+07\n",
      "   6.60235980e+07  3.17098241e+04  9.31072778e+07  3.06439539e+07\n",
      "   1.34837642e+07  6.59772446e+07  2.50153001e+07  9.04332881e+07\n",
      "   3.35447983e+07  1.17393246e+07  6.43555146e+07  2.84694641e+07\n",
      "   1.10182538e-01  6.71222344e+02  8.47125577e+02  2.98298000e-01\n",
      "   4.00088186e-01  1.59683308e+01  1.18464878e+03  2.18958460e+02\n",
      "   3.09713639e+02  1.91677922e+05  7.68482500e-16  1.10182538e-01\n",
      "   5.46734110e-01  1.13481416e-01 -3.78169718e-15  7.07279525e-01\n",
      "   2.29221286e+02  6.82497396e+01  3.59046386e+02  6.71222344e+02\n",
      "   2.73674951e+01  1.54116428e+03  3.62744667e+01  4.62693873e+04\n",
      "   1.07795206e+04  5.36262591e+02  2.03301078e+01  2.40087970e+01\n",
      "   5.18063264e+05  2.16855298e+05  6.75688475e+05  3.64833649e+05\n",
      "   6.35621242e+07  2.68062816e+06  6.55855682e+07  6.16475941e+07\n",
      "   1.16086051e+06]]\n"
     ]
    }
   ],
   "source": [
    "print(clusters)"
   ]
  },
  {
   "cell_type": "code",
   "execution_count": 62,
   "metadata": {},
   "outputs": [],
   "source": [
    "y_km = kmeans.fit_predict(samples)"
   ]
  },
  {
   "cell_type": "code",
   "execution_count": 63,
   "metadata": {},
   "outputs": [
    {
     "data": {
      "text/plain": [
       "<matplotlib.collections.PathCollection at 0x225817db4c8>"
      ]
     },
     "execution_count": 63,
     "metadata": {},
     "output_type": "execute_result"
    },
    {
     "data": {
      "image/png": "[encoded data removed]",
      "text/plain": [
       "<Figure size 432x288 with 1 Axes>"
      ]
     },
     "metadata": {
      "needs_background": "light"
     },
     "output_type": "display_data"
    }
   ],
   "source": [
    "\n",
    "plt.scatter(samples[y_km == 0,0], samples[y_km == 0,1], s=50, color='red')\n",
    "plt.scatter(samples[y_km == 1,0], samples[y_km == 1,1], s=50, color='blue')\n",
    "plt.scatter(samples[y_km == 2,0], samples[y_km == 2,1], s=50, color='yellow')\n",
    "\n",
    "\n",
    "plt.scatter(clusters[0][0], clusters[0][1], marker='*', s=500, color='black')\n",
    "plt.scatter(clusters[1][0], clusters[1][1], marker='*', s=500, color='black')\n",
    "plt.scatter(clusters[2][0], clusters[2][1], marker='*', s=500, color='black')\n"
   ]
  },
  {
   "cell_type": "code",
   "execution_count": null,
   "metadata": {},
   "outputs": [],
   "source": []
  }
 ],
 "metadata": {
  "kernelspec": {
   "display_name": "Python 3",
   "language": "python",
   "name": "python3"
  },
  "language_info": {
   "codemirror_mode": {
    "name": "ipython",
    "version": 3
   },
   "file_extension": ".py",
   "mimetype": "text/x-python",
   "name": "python",
   "nbconvert_exporter": "python",
   "pygments_lexer": "ipython3",
   "version": "3.7.4"
  }
 },
 "nbformat": 4,
 "nbformat_minor": 4
}
