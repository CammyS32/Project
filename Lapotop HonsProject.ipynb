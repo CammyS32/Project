{
 "cells": [
  {
   "cell_type": "code",
   "execution_count": 1,
   "metadata": {},
   "outputs": [],
   "source": [
    "import numpy as np\n",
    "import pandas as pd \n",
    "from matplotlib import pyplot as plt\n",
    "import seaborn as sns\n",
    "sns.set_style(\"darkgrid\")\n",
    "from sklearn.cluster import KMeans"
   ]
  },
  {
   "cell_type": "code",
   "execution_count": 2,
   "metadata": {},
   "outputs": [],
   "source": [
    "df = pd.read_csv('Documents/Uni/4thYear/HonsProject/Data_file_4.csv.csv')\n"
   ]
  },
  {
   "cell_type": "code",
   "execution_count": 3,
   "metadata": {},
   "outputs": [],
   "source": [
    "samples = df.values"
   ]
  },
  {
   "cell_type": "code",
   "execution_count": 4,
   "metadata": {},
   "outputs": [],
   "source": [
    "kmeans = KMeans(n_clusters=2)"
   ]
  },
  {
   "cell_type": "code",
   "execution_count": 5,
   "metadata": {},
   "outputs": [
    {
     "data": {
      "text/plain": [
       "KMeans(algorithm='auto', copy_x=True, init='k-means++', max_iter=300,\n",
       "       n_clusters=2, n_init=10, n_jobs=None, precompute_distances='auto',\n",
       "       random_state=None, tol=0.0001, verbose=0)"
      ]
     },
     "execution_count": 5,
     "metadata": {},
     "output_type": "execute_result"
    }
   ],
   "source": [
    "kmeans.fit(samples)"
   ]
  },
  {
   "cell_type": "code",
   "execution_count": 6,
   "metadata": {},
   "outputs": [],
   "source": [
    "clusters = kmeans.cluster_centers_"
   ]
  },
  {
   "cell_type": "code",
   "execution_count": 7,
   "metadata": {},
   "outputs": [
    {
     "name": "stdout",
     "output_type": "stream",
     "text": [
      "[[ 8.43684822e+03  6.43088763e+05  2.12712331e+00  1.95014168e+00\n",
      "   1.27002386e+02  9.43443832e+02  5.25802013e+01  1.06035559e+01\n",
      "   2.11041287e+01  1.68801413e+01  1.17350741e+02  2.81857061e+01\n",
      "   5.96011952e+01  3.47286278e+01  8.13066216e+04  1.50087370e+05\n",
      "   4.31837390e+05  1.12597800e+04  5.46884352e+05  1.28226630e+05\n",
      "   1.44346309e+05  3.81192601e+05  4.69625263e+04  4.01675790e+05\n",
      "   8.68659052e+04  6.59421357e+04  2.15427038e+05  4.61087700e+04\n",
      "   1.90859307e-02  5.86884882e+01  4.67994950e+01  4.35393566e+04\n",
      "   2.21939563e+04  1.03697349e+01  1.33292675e+02  3.75278317e+01\n",
      "   4.33135288e+01  2.35257640e+04  9.13555415e-03  1.90859307e-02\n",
      "   6.53784887e-01  1.26055232e-01  4.69697415e-02  8.68813589e-01\n",
      "   4.48564158e+01  2.11041287e+01  5.96011952e+01  5.86884882e+01\n",
      "   2.12712331e+00  1.27002386e+02  1.95014168e+00  9.43443832e+02\n",
      "   1.09326653e+04  1.09194302e+03  8.64126525e-01  2.93007135e+01\n",
      "   1.48661834e+04  4.14213569e+03  1.92713654e+04  1.22860937e+04\n",
      "   2.61692115e+05  4.17972035e+03  2.64736471e+05  2.57995988e+05\n",
      "   1.18904471e+06]\n",
      " [ 4.24633626e+02  9.74658257e+07  2.96439021e+01  3.40499536e+01\n",
      "   2.30206737e+03  3.70004103e+04  6.34221295e+02  5.46235638e+00\n",
      "   8.31374032e+01  1.74507254e+02  1.51353243e+03  1.37325341e+01\n",
      "   4.04507644e+02  4.64292786e+02  5.44267262e+06  1.07588256e+07\n",
      "   2.88362891e+07  1.65879713e+04  9.67992894e+07  1.34339056e+07\n",
      "   7.59209066e+06  2.88429514e+07  8.25275492e+06  9.37602881e+07\n",
      "   1.46092276e+07  6.81724816e+06  2.79004330e+07  9.43465767e+06\n",
      "   5.80889174e-02  7.36755299e+02  8.71710554e+02  3.07443714e-01\n",
      "   3.57105451e-01  5.36580318e+00  1.63560323e+03  2.48814132e+02\n",
      "   4.20325460e+02  2.69791143e+05  7.13623064e-05  5.80889174e-02\n",
      "   7.95047456e-01  8.63483908e-02 -3.28903571e-15  4.96967102e-01\n",
      "   2.55447893e+02  8.31374032e+01  4.04507644e+02  7.36755299e+02\n",
      "   2.96439021e+01  2.30206737e+03  3.40499536e+01  3.70004103e+04\n",
      "   1.52753403e+04  2.38204325e+03  1.85352887e+01  2.46936416e+01\n",
      "   4.07903349e+05  3.88628272e+05  1.21694165e+06  2.05017862e+05\n",
      "   2.76814574e+07  1.16992262e+06  2.85261507e+07  2.63900459e+07\n",
      "   1.15746642e+06]]\n"
     ]
    }
   ],
   "source": [
    "print(clusters)"
   ]
  },
  {
   "cell_type": "code",
   "execution_count": 8,
   "metadata": {},
   "outputs": [],
   "source": [
    "y_km = kmeans.fit_predict(samples)"
   ]
  },
  {
   "cell_type": "code",
   "execution_count": 26,
   "metadata": {},
   "outputs": [
    {
     "data": {
      "text/plain": [
       "<matplotlib.collections.PathCollection at 0x21409184b70>"
      ]
     },
     "execution_count": 26,
     "metadata": {},
     "output_type": "execute_result"
    },
    {
     "data": {
      "image/png": "[encoded data removed]",
      "text/plain": [
       "<Figure size 432x288 with 1 Axes>"
      ]
     },
     "metadata": {},
     "output_type": "display_data"
    }
   ],
   "source": [
    "n = 7\n",
    "m = 26\n",
    "\n",
    "plt.scatter(samples[y_km == 0,n], samples[y_km == 0,m], s=10, edgecolors=\"black\", linewidth=.2, color='red')\n",
    "plt.scatter(samples[y_km == 1,n], samples[y_km == 1,m], s=10, edgecolors=\"black\", linewidth=.2, color='blue')\n",
    "\n",
    "\n",
    "\n",
    "plt.scatter(clusters[0][n], clusters[0][m], marker='*', s=100, edgecolors=\"white\", linewidth=.2, color='black')\n",
    "plt.scatter(clusters[1][n], clusters[1][m], marker='*', s=100, edgecolors=\"white\", linewidth=.2, color='black')\n"
   ]
  },
  {
   "cell_type": "code",
   "execution_count": 5,
   "metadata": {},
   "outputs": [
    {
     "ename": "NameError",
     "evalue": "name 'kmeans' is not defined",
     "output_type": "error",
     "traceback": [
      "\u001b[1;31m---------------------------------------------------------------------------\u001b[0m",
      "\u001b[1;31mNameError\u001b[0m                                 Traceback (most recent call last)",
      "\u001b[1;32m<ipython-input-5-2cafcc4c6179>\u001b[0m in \u001b[0;36m<module>\u001b[1;34m\u001b[0m\n\u001b[1;32m----> 1\u001b[1;33m \u001b[0mkmeans\u001b[0m\u001b[1;33m.\u001b[0m\u001b[0mfit\u001b[0m\u001b[1;33m(\u001b[0m\u001b[0msamples\u001b[0m\u001b[1;33m)\u001b[0m\u001b[1;33m.\u001b[0m\u001b[0mscore\u001b[0m\u001b[1;33m(\u001b[0m\u001b[0msamples\u001b[0m\u001b[1;33m)\u001b[0m\u001b[1;33m\u001b[0m\u001b[0m\n\u001b[0m",
      "\u001b[1;31mNameError\u001b[0m: name 'kmeans' is not defined"
     ]
    }
   ],
   "source": [
    "kmeans.fit(samples).score(samples)"
   ]
  },
  {
   "cell_type": "code",
   "execution_count": null,
   "metadata": {},
   "outputs": [],
   "source": []
  }
 ],
 "metadata": {
  "kernelspec": {
   "display_name": "Python 3",
   "language": "python",
   "name": "python3"
  },
  "language_info": {
   "codemirror_mode": {
    "name": "ipython",
    "version": 3
   },
   "file_extension": ".py",
   "mimetype": "text/x-python",
   "name": "python",
   "nbconvert_exporter": "python",
   "pygments_lexer": "ipython3",
   "version": "3.7.0"
  }
 },
 "nbformat": 4,
 "nbformat_minor": 4
}
