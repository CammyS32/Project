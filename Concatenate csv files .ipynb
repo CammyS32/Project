{
 "cells": [
  {
   "cell_type": "code",
   "execution_count": 4,
   "metadata": {},
   "outputs": [],
   "source": [
    "import pandas as pd\n",
    "from glob import glob"
   ]
  },
  {
   "cell_type": "code",
   "execution_count": 9,
   "metadata": {},
   "outputs": [
    {
     "data": {
      "text/plain": [
       "['Documents/Univiersity/HonsProject/MachineLearningcsv/Cleanedcsv1/Cleanedcsv2\\\\Data_file_1.csv.csv',\n",
       " 'Documents/Univiersity/HonsProject/MachineLearningcsv/Cleanedcsv1/Cleanedcsv2\\\\Data_file_2.csv.csv',\n",
       " 'Documents/Univiersity/HonsProject/MachineLearningcsv/Cleanedcsv1/Cleanedcsv2\\\\Data_file_3.csv.csv',\n",
       " 'Documents/Univiersity/HonsProject/MachineLearningcsv/Cleanedcsv1/Cleanedcsv2\\\\Data_file_4.csv.csv']"
      ]
     },
     "execution_count": 9,
     "metadata": {},
     "output_type": "execute_result"
    }
   ],
   "source": [
    "stock_files = sorted(glob('Documents/Univiersity/HonsProject/MachineLearningcsv/Cleanedcsv1/Cleanedcsv2/Data_file_*.csv'))\n",
    "stock_files"
   ]
  },
  {
   "cell_type": "code",
   "execution_count": 12,
   "metadata": {},
   "outputs": [],
   "source": [
    "combined_csv = pd.concat((pd.read_csv(file).assign(filename = file)\n",
    "          for file in stock_files), ignore_index = True)\n",
    "combined_csv.to_csv( \"combined_csv.csv\", index = False, encoding=\"utf-8-sig\")"
   ]
  },
  {
   "cell_type": "code",
   "execution_count": null,
   "metadata": {},
   "outputs": [],
   "source": []
  }
 ],
 "metadata": {
  "kernelspec": {
   "display_name": "Python 3",
   "language": "python",
   "name": "python3"
  },
  "language_info": {
   "codemirror_mode": {
    "name": "ipython",
    "version": 3
   },
   "file_extension": ".py",
   "mimetype": "text/x-python",
   "name": "python",
   "nbconvert_exporter": "python",
   "pygments_lexer": "ipython3",
   "version": "3.7.4"
  }
 },
 "nbformat": 4,
 "nbformat_minor": 4
}
