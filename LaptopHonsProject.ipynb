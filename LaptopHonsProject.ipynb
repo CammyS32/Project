{
 "cells": [
  {
   "cell_type": "code",
   "execution_count": 2,
   "metadata": {},
   "outputs": [],
   "source": [
    "import numpy as np\n",
    "import pandas as pd \n",
    "from matplotlib import pyplot as plt"
   ]
  },
  {
   "cell_type": "code",
   "execution_count": 3,
   "metadata": {},
   "outputs": [],
   "source": [
    "df = pd.read_csv('Documents/Uni/4thYear/HonsProject/Data_file_4.csv.csv')\n"
   ]
  },
  {
   "cell_type": "code",
   "execution_count": 4,
   "metadata": {},
   "outputs": [],
   "source": [
    "samples = df.values"
   ]
  },
  {
   "cell_type": "code",
   "execution_count": 5,
   "metadata": {},
   "outputs": [],
   "source": [
    "from sklearn.pipeline import make_pipeline\n",
    "from sklearn.preprocessing import StandardScaler\n",
    "from sklearn.cluster import KMeans"
   ]
  },
  {
   "cell_type": "code",
   "execution_count": 6,
   "metadata": {},
   "outputs": [],
   "source": [
    "scaler = StandardScaler()"
   ]
  },
  {
   "cell_type": "code",
   "execution_count": 7,
   "metadata": {},
   "outputs": [],
   "source": [
    "kmeans = KMeans(n_clusters=10)"
   ]
  },
  {
   "cell_type": "code",
   "execution_count": 8,
   "metadata": {},
   "outputs": [
    {
     "data": {
      "text/plain": [
       "KMeans(algorithm='auto', copy_x=True, init='k-means++', max_iter=300,\n",
       "       n_clusters=10, n_init=10, n_jobs=None, precompute_distances='auto',\n",
       "       random_state=None, tol=0.0001, verbose=0)"
      ]
     },
     "execution_count": 8,
     "metadata": {},
     "output_type": "execute_result"
    }
   ],
   "source": [
    "kmeans.fit(samples)"
   ]
  },
  {
   "cell_type": "code",
   "execution_count": 10,
   "metadata": {},
   "outputs": [],
   "source": [
    "clusters = kmeans.cluster_centers_"
   ]
  },
  {
   "cell_type": "code",
   "execution_count": 11,
   "metadata": {},
   "outputs": [
    {
     "name": "stdout",
     "output_type": "stream",
     "text": [
      "[[ 8.56603040e+03  2.31610898e+05  1.86518543e+00  1.61598388e+00\n",
      "   9.44584322e+01  5.08921689e+02  4.12859451e+01  1.06927505e+01\n",
      "   1.92484648e+01  1.30614617e+01  9.34537609e+01  2.84805649e+01\n",
      "   5.16884116e+01  2.65065820e+01  4.58982700e+04  7.87738950e+04\n",
      "   2.07472976e+05  8.37438043e+03  1.92482280e+05  5.70823644e+04\n",
      "   8.25089620e+04  1.74091895e+05  9.38179839e+03  6.22055283e+04\n",
      "   1.69004905e+04  1.66064374e+04  4.90950107e+04  7.90647039e+03\n",
      "   1.92970674e-02  5.21533915e+01  3.85688381e+01  4.42593140e+04\n",
      "   2.25609420e+04  1.04587120e+01  1.06996276e+02  3.25621731e+01\n",
      "   3.57022662e+01  1.77857751e+04  9.28662040e-03  1.92970674e-02\n",
      "   6.50981270e-01  1.27035296e-01  4.76792777e-02  8.71595403e-01\n",
      "   3.97939360e+01  1.92484648e+01  5.16884116e+01  5.21533915e+01\n",
      "   1.86518543e+00  9.44584322e+01  1.61598388e+00  5.08921689e+02\n",
      "   1.08080253e+04  1.04621929e+03  6.80210432e-01  2.93835162e+01\n",
      "   3.93906419e+03 -9.06002242e-08  3.93906419e+03  3.93906419e+03\n",
      "   6.43327393e+04  1.99601345e-07  6.43327393e+04  6.43327393e+04\n",
      "   1.18951091e+06]\n",
      " [ 3.13667437e+02  1.14988474e+08  3.31456311e+01  3.66512560e+01\n",
      "   2.95650809e+03  3.61321313e+04  7.66955155e+02  2.50577901e-01\n",
      "   8.86811627e+01  2.10334563e+02  1.74573786e+03  3.90584065e+00\n",
      "   4.35626063e+02  5.25039627e+02  2.72438129e+06  4.28011578e+06\n",
      "   1.03642537e+07  4.27926029e+02  1.14847681e+08  5.33372589e+06\n",
      "   4.60321873e+06  1.03933588e+07  1.00297327e+05  1.11375204e+08\n",
      "   5.77779848e+06  4.47141116e+06  1.04217695e+07  1.28189631e+05\n",
      "   4.29958391e-02  8.65453537e+02  9.91371244e+02  2.87704743e-01\n",
      "   3.17581534e-01  1.04484512e-01  1.91102265e+03  2.68423632e+02\n",
      "   4.79554196e+02  3.15655344e+05  9.73179870e-16  4.29958391e-02\n",
      "   9.18631530e-01  8.12143628e-02 -3.10168558e-15  3.15919248e-01\n",
      "   2.72595120e+02  8.86811627e+01  4.35626063e+02  8.65453537e+02\n",
      "   3.31456311e+01  2.95650809e+03  3.66512560e+01  3.61321313e+04\n",
      "   1.78372950e+04  3.36714455e+03  1.93062105e+01  2.54966867e+01\n",
      "   3.11673005e+05  4.40712099e+05  1.47480582e+06  1.19767345e+05\n",
      "   1.01639805e+07  4.43927430e+05  1.03628000e+07  8.97503889e+06\n",
      "   1.15668414e+06]\n",
      " [ 5.42095890e+02  7.29726496e+07  2.01027397e+00  2.00856164e+00\n",
      "   9.76147260e+01  2.24046233e+02  5.31301370e+01  4.39897260e+01\n",
      "   4.85428082e+01  6.43725545e+00  1.35023973e+02  8.79366438e+01\n",
      "   1.11488014e+02  3.31648399e+01  2.41993151e+07  4.16967466e+07\n",
      "   7.23345890e+07  3.00078579e+04  7.29111301e+07  7.23145548e+07\n",
      "   1.04545017e+05  7.23885274e+07  7.22405822e+07  7.27133562e+07\n",
      "   7.21169521e+07  1.04787832e+05  7.21909247e+07  7.20428082e+07\n",
      "  -1.31838984e-16  5.52739726e+01  5.20890411e+01  2.79278970e-02\n",
      "   2.79136234e-02  4.39897260e+01  1.35023973e+02  7.36440680e+01\n",
      "   3.98934828e+01  2.39840902e+03 -3.98986399e-17 -1.31838984e-16\n",
      "   4.96575342e-02 -9.71445147e-17  5.41233725e-16  9.98287671e-01\n",
      "   9.19930080e+01  4.85428082e+01  1.11488014e+02  5.52739726e+01\n",
      "   2.01027397e+00  9.76147260e+01  2.00856164e+00  2.24046233e+02\n",
      "   1.25606336e+03 -9.50342466e-01  9.60616438e-01  2.44315068e+01\n",
      "   5.54199478e+04  2.53048575e+02  5.55988801e+04  5.52410154e+04\n",
      "   7.22607877e+07  1.04638270e+05  7.23345890e+07  7.21868151e+07\n",
      "   1.15609684e+06]\n",
      " [ 4.74515881e+02  1.16720747e+08  3.55606352e+01  4.54783446e+01\n",
      "   2.17169971e+03  5.51584832e+04  5.80466314e+02  2.06111646e+00\n",
      "   8.59013985e+01  1.54289685e+02  1.79776805e+03  4.68960539e+00\n",
      "   5.18270590e+02  5.56708769e+02  4.15141159e+06  1.46309668e+07\n",
      "   6.19156882e+07  8.07307026e+02  1.16688595e+08  8.65449880e+06\n",
      "   2.04362352e+07  6.19347449e+07  3.36970258e+05  1.16356833e+08\n",
      "   9.50207357e+06  2.06085698e+07  6.19937921e+07  7.29465842e+05\n",
      "   7.74783446e-02  8.50793070e+02  1.02464485e+03  3.02407032e-01\n",
      "   3.86385773e-01  2.01924928e+00  1.90589461e+03  3.11304471e+02\n",
      "   4.95603270e+02  3.16363412e+05 -3.98986399e-17  7.74783446e-02\n",
      "   8.78729548e-01  7.89220404e-02  1.31145095e-15  5.76997113e-01\n",
      "   3.18118691e+02  8.59013985e+01  5.18270590e+02  8.50793070e+02\n",
      "   3.55606352e+01  2.17169971e+03  4.54783446e+01  5.51584832e+04\n",
      "   1.50482594e+04  8.08821944e+02  2.81198268e+01  2.36034649e+01\n",
      "   4.04052190e+05  3.83424581e+05  6.83333664e+05  1.33462868e+05\n",
      "   6.06001925e+07  1.57138617e+06  6.19156882e+07  5.94499413e+07\n",
      "   1.15618617e+06]\n",
      " [ 2.99607730e+02  6.22249763e+07  2.62616095e+01  2.81586386e+01\n",
      "   2.07195327e+03  2.99113634e+04  7.26886069e+02  2.85261033e-01\n",
      "   9.30217854e+01  2.16442787e+02  1.65571070e+03  4.28324200e-01\n",
      "   4.32688102e+02  5.37921149e+02  2.25205631e+06  3.94941686e+06\n",
      "   1.02373924e+07  2.15728555e+03  5.93029709e+07  4.39678513e+06\n",
      "   4.58571008e+06  1.03035472e+07  2.07972721e+05  5.92987020e+07\n",
      "   4.74094711e+06  4.33018925e+06  9.99641973e+06  4.73084032e+05\n",
      "   7.21084511e-03  5.68819152e+02  6.89003750e+02  4.12013440e-01\n",
      "   4.70141726e-01  1.29506778e-01  1.76699971e+03  2.68334023e+02\n",
      "   4.75248157e+02  3.01016209e+05  2.88433804e-04  7.21084511e-03\n",
      "   9.16065763e-01  6.25901356e-02 -1.03389519e-15  6.03691953e-01\n",
      "   2.74872612e+02  9.30217854e+01  4.32688102e+02  5.68819152e+02\n",
      "   2.62616095e+01  2.07195327e+03  2.81586386e+01  2.99113634e+04\n",
      "   1.65011399e+04  3.11595731e+03  1.67282954e+01  2.35615806e+01\n",
      "   3.92174607e+05  5.61677488e+05  1.42352814e+06  8.45141474e+04\n",
      "   9.98827325e+06  2.73593374e+05  1.02306073e+07  9.56287443e+06\n",
      "   1.15629798e+06]\n",
      " [ 8.86096907e+02  1.04102175e+08  2.00000000e+00  2.00000000e+00\n",
      "   9.52989691e+01  2.36820619e+02  5.22515464e+01  4.30474227e+01\n",
      "   4.76494845e+01  6.50829829e+00  1.45915464e+02  9.09051546e+01\n",
      "   1.18410309e+02  3.88981627e+01  3.47043299e+07  5.99878351e+07\n",
      "   1.03980619e+08  3.09228598e+04  1.04055258e+08  1.04055258e+08\n",
      "   2.32830644e-09  1.04055258e+08  1.04055258e+08  1.04065773e+08\n",
      "   1.04065773e+08  2.38651410e-09  1.04065773e+08  1.04065773e+08\n",
      "  -1.11022302e-16  5.36577320e+01  5.01030928e+01  1.93852456e-02\n",
      "   1.93852456e-02  4.30474227e+01  1.45915464e+02  7.60160825e+01\n",
      "   4.50676430e+01  2.75708825e+03  1.73472348e-17 -1.11022302e-16\n",
      "   7.83505155e-02  5.13478149e-16  3.19189120e-16  1.00000000e+00\n",
      "   9.50201031e+01  4.76494845e+01  1.18410309e+02  5.36577320e+01\n",
      "   2.00000000e+00  9.52989691e+01  2.00000000e+00  2.36820619e+02\n",
      "   8.34542268e+02 -9.21649485e-01  9.21649485e-01  2.32494845e+01\n",
      "   6.24200598e+04 -5.82076609e-11  6.24200598e+04  6.24200598e+04\n",
      "   1.03980619e+08  6.25732355e-10  1.03980619e+08  1.03980619e+08\n",
      "   1.18338812e+06]\n",
      " [ 4.58262745e+02  5.06850802e+07  2.60549020e+01  2.93372549e+01\n",
      "   1.57845882e+03  4.40029333e+04  5.07127451e+02  1.47843137e+00\n",
      "   8.39471460e+01  1.58086326e+02  1.77748039e+03  5.51372549e+00\n",
      "   7.17896939e+02  5.88538868e+02  4.31675934e+06  1.14618253e+07\n",
      "   4.71656863e+07  6.24384920e+05  5.06801961e+07  6.66534517e+06\n",
      "   1.51157138e+07  4.71701961e+07  6.47101935e+05  2.22152212e+06\n",
      "   5.00994316e+05  8.50210669e+05  1.79146911e+06  2.46590608e+04\n",
      "   2.54901961e-02  7.46470588e+02  8.65427451e+02  5.88703284e-01\n",
      "   6.84428331e-01  1.47843137e+00  1.79931176e+03  3.95694727e+02\n",
      "   5.36381624e+02  3.96644930e+05  1.73472348e-18  2.54901961e-02\n",
      "   8.76470588e-01  5.68627451e-02  5.88235294e-03  3.07843137e-01\n",
      "   4.08491237e+02  8.39471460e+01  7.17896939e+02  7.46470588e+02\n",
      "   2.60549020e+01  1.57845882e+03  2.93372549e+01  4.40029333e+04\n",
      "   4.46695431e+04  5.24554902e+02  9.25490196e+00  2.71529412e+01\n",
      "   1.09346859e+06  7.89401283e+04  1.19306126e+06  1.01772914e+06\n",
      "   2.84478616e+07  1.19271347e+06  2.96492341e+07  2.75149879e+07\n",
      "   1.14117215e+06]\n",
      " [ 7.51123332e+02  1.96060056e+07  1.49679810e+01  1.75146754e+01\n",
      "   2.14250489e+03  2.00708610e+04  7.90962052e+02  5.79246961e+00\n",
      "   1.48111606e+02  2.70477406e+02  1.50761429e+03  1.16332642e+01\n",
      "   5.13745996e+02  5.26440050e+02  1.98558888e+06  3.85509848e+06\n",
      "   1.16796595e+07  2.00859549e+05  1.57426134e+07  3.94963262e+06\n",
      "   3.00831566e+06  1.02353030e+07  2.33996653e+06  1.81130304e+07\n",
      "   4.25866182e+06  3.24821691e+06  1.09192193e+07  2.38090057e+06\n",
      "   4.74355173e-03  3.83582567e+02  4.40272754e+02  8.26486124e-01\n",
      "   9.54323779e-01  5.57011562e+00  1.70247139e+03  3.30095745e+02\n",
      "   5.00435196e+02  3.74523856e+05  5.32560107e-16  4.74355173e-03\n",
      "   8.15890898e-01  6.34450044e-02  4.44707975e-03  7.30506967e-01\n",
      "   3.44146493e+02  1.48111606e+02  5.13745996e+02  3.83582567e+02\n",
      "   1.49679810e+01  2.14250489e+03  1.75146754e+01  2.00708610e+04\n",
      "   1.55240720e+04  4.46836110e+03  9.50756004e+00  2.43095168e+01\n",
      "   7.09361154e+05  2.14606962e+05  8.95492780e+05  5.65068918e+05\n",
      "   1.07603974e+07  2.39017503e+05  1.09259815e+07  1.05719026e+07\n",
      "   1.16219905e+06]\n",
      " [ 3.82039823e+02  7.33322983e+07  6.81814159e+01  9.97389381e+01\n",
      "   3.58946755e+03  1.41335858e+05  6.27309735e+02  7.81710914e+00\n",
      "   8.39002680e+01  1.46475134e+02  1.63806342e+03  1.62905605e+01\n",
      "   5.34465185e+02  4.47753783e+02  3.64845396e+06  1.18560776e+07\n",
      "   6.01685841e+07  1.97378171e+03  7.21634844e+07  7.61013666e+06\n",
      "   1.65226749e+07  5.95254798e+07  5.66907636e+05  6.32580170e+07\n",
      "   7.58015654e+06  1.54732120e+07  5.45849913e+07  6.16672270e+05\n",
      "   1.41592920e-01  1.73162242e+03  2.44589381e+03  9.71219873e-01\n",
      "   1.42970380e+00  7.80825959e+00  1.74459735e+03  3.34405613e+02\n",
      "   4.42631150e+02  3.01279005e+05 -7.97972799e-17  1.41592920e-01\n",
      "   6.66666667e-01  1.51917404e-01  6.86950496e-16  7.55162242e-01\n",
      "   3.40578030e+02  8.39002680e+01  5.34465185e+02  1.73162242e+03\n",
      "   6.81814159e+01  3.58946755e+03  9.97389381e+01  1.41335858e+05\n",
      "   1.59164749e+04  7.41529499e+02  4.65929204e+01  2.39823009e+01\n",
      "   2.06807085e+06  3.03297793e+05  2.29594108e+06  1.85285686e+06\n",
      "   5.32458702e+07  9.32559618e+06  6.01685841e+07  4.66224155e+07\n",
      "   1.15903726e+06]\n",
      " [ 1.13483227e+03  5.08038951e+07  3.66197183e+00  2.02432778e+00\n",
      "   1.21089629e+02  1.70766965e+02  4.62663252e+01  2.63444302e+01\n",
      "   3.67405829e+01  1.10281913e+01  9.98271447e+01  6.81306018e+01\n",
      "   8.39063167e+01  2.21269875e+01  1.23803531e+07  2.34832266e+07\n",
      "   4.84061460e+07  1.78818079e+04  5.07166453e+07  3.26092772e+07\n",
      "   7.99798247e+06  4.84341869e+07  2.89268782e+07  4.92733675e+07\n",
      "   4.84435339e+07  3.21472117e+05  4.86710627e+07  4.82163892e+07\n",
      "   3.22663252e-01  9.34135723e+01  4.89577465e+01  6.80926401e-02\n",
      "   4.23648752e-02  2.63444302e+01  1.00658131e+02  5.50905224e+01\n",
      "   3.30328424e+01  1.79833841e+03 -1.11022302e-16  3.22663252e-01\n",
      "   1.39564661e-01  3.22663252e-01  8.11850587e-16  6.73495519e-01\n",
      "   6.71957036e+01  3.67405829e+01  8.39063167e+01  9.34135723e+01\n",
      "   3.66197183e+00  1.21089629e+02  2.02432778e+00  1.70766965e+02\n",
      "   5.90674776e+03  3.83766965e+02  2.25736236e+00  2.54391805e+01\n",
      "   9.43046428e+04  7.62824260e+02  9.48440410e+04  9.37652446e+04\n",
      "   4.59806658e+07  3.38029731e+06  4.84061460e+07  4.35760761e+07\n",
      "   1.16553515e+06]]\n"
     ]
    }
   ],
   "source": [
    "print(clusters)"
   ]
  },
  {
   "cell_type": "code",
   "execution_count": 12,
   "metadata": {},
   "outputs": [],
   "source": [
    "y_km = kmeans.fit_predict(samples)"
   ]
  },
  {
   "cell_type": "code",
   "execution_count": 13,
   "metadata": {},
   "outputs": [
    {
     "data": {
      "text/plain": [
       "<matplotlib.collections.PathCollection at 0x1d408f17748>"
      ]
     },
     "execution_count": 13,
     "metadata": {},
     "output_type": "execute_result"
    },
    {
     "data": {
      "image/png": "[encoded data removed]",
      "text/plain": [
       "<Figure size 432x288 with 1 Axes>"
      ]
     },
     "metadata": {
      "needs_background": "light"
     },
     "output_type": "display_data"
    }
   ],
   "source": [
    "\n",
    "plt.scatter(samples[y_km == 0,0], samples[y_km == 0,1], s=50, color='red')\n",
    "plt.scatter(samples[y_km == 1,0], samples[y_km == 1,1], s=50, color='blue')\n",
    "plt.scatter(samples[y_km == 2,0], samples[y_km == 2,1], s=50, color='yellow')\n",
    "\n",
    "\n",
    "plt.scatter(clusters[4][0], clusters[4][1], marker='*', s=500, color='black')\n",
    "plt.scatter(clusters[5][0], clusters[5][1], marker='*', s=500, color='black')\n",
    "plt.scatter(clusters[6][0], clusters[6][1], marker='*', s=500, color='black')\n"
   ]
  },
  {
   "cell_type": "code",
   "execution_count": null,
   "metadata": {},
   "outputs": [],
   "source": []
  }
 ],
 "metadata": {
  "kernelspec": {
   "display_name": "Python 3",
   "language": "python",
   "name": "python3"
  },
  "language_info": {
   "codemirror_mode": {
    "name": "ipython",
    "version": 3
   },
   "file_extension": ".py",
   "mimetype": "text/x-python",
   "name": "python",
   "nbconvert_exporter": "python",
   "pygments_lexer": "ipython3",
   "version": "3.7.0"
  }
 },
 "nbformat": 4,
 "nbformat_minor": 4
}
